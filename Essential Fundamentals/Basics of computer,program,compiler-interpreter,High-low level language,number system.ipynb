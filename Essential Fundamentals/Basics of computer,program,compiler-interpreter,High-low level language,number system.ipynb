{
 "cells": [
  {
   "cell_type": "markdown",
   "metadata": {},
   "source": [
    "# Computer Block Diagram\n",
    "\n",
    "![i](https://i.imgur.com/RPlUWKZ.jpg)\n",
    "\n",
    "Heart of computers is CPU(Central Processing Unit) or microprocessor. The microprocessor will have 2 parts- ALU(Arithmetic and Logic Unit) and CU(Control Unit). \n",
    "\n",
    "Arithmetic and Logical Unit can perform arithmetic and logical operations such as addition,subtraction, division, multiplication, modulus and under logical operations it can perform operations such as comparing (less than, greater than, equal to), AND, OR.\n",
    "\n",
    "Control Unit's job is to utilize other resources. \n",
    "\n",
    "Hard disk will contain 2 types of files - either program files or data files. Notepad on pc is program file. If we type something in a notepad file and save it, it will be saved in the form of a txt file. The txt file of the notepad is saved as a data file. We save our program kept under hard disk and it is permanent storage which is larger in size. If we want to run any program then that program should be present inside the main memory so that cpu can execute it. The program is brought from the hard disk to the main memory. The main memory is the primary memory. Once the program reaches the main memory, CPU will take instructions from there which is written in the program loaded line by line. \n",
    "\n",
    "If a program needs data from keyboard or it has to display some data on monitor, then it can utilize input devices or output devices. The input and output devices are connected to the system and they have their own memory which is known as input buffer and output buffer respectively. If a program has to read something from the keyboard so it will go to the memory area of the keyboard i.e. the input buffer and will get the data from there. If the computer has to print something on the monitor, then whatever it has to print it will put in it's memory area called as frame/output buffer. So whatever we type in computer does not directly go to the memory, it reaches the buffer and then the data we typed is extracted from the input buffer and whatever is to be printed is simply dumped into the frame or output buffer.\n",
    "\n",
    "Computer works on a binary number system since it is an electronic device and all electronic devices work on current and voltages. Voltages are used as binary. Low voltage is taken as zero and high voltage is treated as 1. An integrated circuits have pins and IC's are electronic. Throughout these pins, we can pass some voltages. In any particular pin, we can either pass low voltage(0) or high voltage(1). \n",
    "\n",
    "8 binary bits = 1 byte\n",
    "\n",
    "The bits can form several patterns such as 00000000, 00000001, 11000000 and so on. Each pattern of bits can be taken as an instruction. Pattern of bits that is in binary form can be taken as an instruction.\n",
    "\n",
    "The number of instructions an IC can give will depend on the number of pins it has. The number of instructions = (2)^(number of ic pins)\n",
    "\n",
    "Language of CPU is binary. CPU performs Arithmetic and logical operations on binary number system. So we can say that the langauge of machine or computer is binary. We aren't comfortable with binary number system but we prefer working with decimal number system. "
   ]
  },
  {
   "cell_type": "markdown",
   "metadata": {},
   "source": [
    "# Number Systems\n",
    "\n",
    "![i](https://i.imgur.com/0WWdr5m.jpg)"
   ]
  },
  {
   "cell_type": "markdown",
   "metadata": {},
   "source": [
    "# What is a Program?\n",
    "\n",
    "We use computers for performning computational task. Computer is a programmable computational device. we define a procedure by giving all the steps one by one to our computer system and we call it as a program and the computer or a CPU or processor will execute those set of instructions and give us the result. Instructions are steps which are required for performing any task. Program is collection of data and the set of operations and instructions on that data. Without data there is no need of instructions and instructions become useless. If we just have the data and no instructions, then we don't know the results. \n",
    "\n",
    "Programming language act as an intermediate language between natural language in which we humans communicate and the machine language(binary language), which we humans do not understand. A compiler/interpreter converts programming language into machine language. "
   ]
  },
  {
   "cell_type": "markdown",
   "metadata": {},
   "source": [
    "# Low  Level and High Level Languages\n",
    "\n",
    "Under Low level languages we have 2 languages: Machine Language and Assembly Language. \n",
    "\n",
    "Languages in which we humans interact with each other is natural language.\n",
    "\n",
    "A high level language is the one which is in between the natural langauge and low level language. They are easy enough for any to understand and work on with. Examples include - C,C++, Java, Python, C#, Visual Basic and so on. They are also known as programming languages since these are the languages which we humans can program.\n",
    "\n",
    "Assembly langauge is also programming langauge but it is low level programming language."
   ]
  },
  {
   "cell_type": "markdown",
   "metadata": {},
   "source": [
    "# Compiler vs Interpreter\n",
    "\n",
    "Tasks of Compiler or Interpreter:\n",
    "\n",
    "1. It checks for errors.\n",
    "\n",
    "2. It converts into machine code language.\n",
    "\n",
    "3. Execution of the program or running the program.\n",
    "\n",
    "The compiler or interpreter will first check for any syntax errors in the code written by us. If there is no error then in that case, it will convert it into machine code. \n",
    "\n",
    "A compiler does not take the responsibility of execution but interpreter takes the responsibility of execution. Compiler is not involved in the execution of a program but an interpreter is involved. \n",
    "\n",
    "C++ is a compiler based language which means it has a compiler but it does not have an interpreter.\n",
    "\n",
    "Javascript is interpreter based language.\n",
    "\n",
    "Compiler : After compilation of a file, we finally get a .exe file(executable file). First compiler will check the code which user has written and when it is syntax error free, then it will generate a machine code file i.e. a .exe file and it will save it on the hard disk. The executable file is a separate file created. The compiler has generated the exe file and now we can run the .exe file as many times as we want to run it. We do not need a compiler now. Compiler has now translated it once and it's work is done now. Source code is of no use now. When we want to make changes, we will recompile to get a new .exe file and so we will execute the .exe file and not the source code. Compilation or translation of source to machine code is done only once. Compiler generates a seperate executable file. Whenever we want to run a program, we do not need a compiler. If there is any error at some place in the code, the program will not get compiled since the compiler needs to generate a complete machine code. Compiler is not present at the time of execution of a program.\n",
    "\n",
    "Interpreter : A interpreter based language cannot run independently. It will require an interpreter to run. The interpreter will execute the code file and read it line by line. There will be line by line translation and execution.\n",
    "\n",
    "Compiler will read the program and it will generate machine code for separate entire program and make a seperate file but the interpreter will not create a seperate .exe file. Compiler will just translate and it will not execute. An interpreter will translate as well as execute. If once the code is translated into machine code, we can run it as many times as we want it to, we do not need compiler since translation is done only once. Whenever we want to run interpreter based code, we always need to call the interpreter whenever we want to run the code. Compiler program runs independently whereas interpreter program runs inside interpreter. \n",
    "\n",
    "Compiler programs are faster than interpreter programs since they run as a separate program. Interpreter programs are not faster since they don't run independently and they are always inside an interpreter so they are slower.\n",
    "\n",
    "An interpreter code is easier to run as compared to a compiler program since if there is any error in a compiler based program, the whole code will not be executed and we need to fix the error whereas in an interpreter program, the code will be executed line by line and it will spot out the error at the particular line if there exists.\n",
    "\n",
    "An example - We want to make a dish and the recipe is in chinese. We call our frnd who knows english as well as chinese. The friend translates the whole recipe in english for us. That is the first case which is compiler based language. Now we have a complete recipe file in english and we do not need our frnd to prepare the dish. Whereas in the 2nd case, if our frnd translates each line for us and we start executing whatever he/she says right then, that is interpreter based code. Now whenever we want to make the dish again, we need our frnd to be with us so that we can prepare the dish again. We do not have a separate file in this case."
   ]
  },
  {
   "cell_type": "code",
   "execution_count": null,
   "metadata": {},
   "outputs": [],
   "source": []
  }
 ],
 "metadata": {
  "kernelspec": {
   "display_name": "Python 3",
   "language": "python",
   "name": "python3"
  },
  "language_info": {
   "codemirror_mode": {
    "name": "ipython",
    "version": 3
   },
   "file_extension": ".py",
   "mimetype": "text/x-python",
   "name": "python",
   "nbconvert_exporter": "python",
   "pygments_lexer": "ipython3",
   "version": "3.7.4"
  }
 },
 "nbformat": 4,
 "nbformat_minor": 2
}
